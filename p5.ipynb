{
 "cells": [
  {
   "cell_type": "code",
   "execution_count": 1,
   "id": "e830a381",
   "metadata": {},
   "outputs": [
    {
     "name": "stdout",
     "output_type": "stream",
     "text": [
      "enter number1 54\n",
      "enter number2 45\n",
      "enter the choices 1.addition 2.subtraction 3.multiplication 4.division 2\n",
      "Subtraction =  9\n"
     ]
    }
   ],
   "source": [
    "num1=int(input(\"enter number1 \"))\n",
    "num2=int(input(\"enter number2 \"))\n",
    "choice=int(input(\"enter the choices 1.addition 2.subtraction 3.multiplication 4.division \"))\n",
    "match choice:\n",
    "    case 1:\n",
    "        print(\"Addition = \",num1+num2)\n",
    "    case 2:\n",
    "        print(\"Subtraction = \",num1-num2)\n",
    "    case 3:\n",
    "        print(\"Multiplication = \",num1*num2)\n",
    "    case 4:\n",
    "        print(\"Division = \",num1//num2)\n",
    "    case _:\n",
    "        print(\"Invalid Choice!!!!\")\n"
   ]
  },
  {
   "cell_type": "code",
   "execution_count": 3,
   "id": "a3e67599",
   "metadata": {},
   "outputs": [
    {
     "name": "stdout",
     "output_type": "stream",
     "text": [
      "[51, 53, 55, 57, 59, 61, 63, 65, 67, 69, 71, 73, 75, 77, 79, 81, 83, 85, 87, 89, 91, 93, 95, 97, 99]\n",
      "[51, 53, 55, 57, 59, 61, 63, 65, 67, 69, 71, 73, 75, 77, 79, 81, 83, 85, 87, 89, 91, 93, 95, 97, 99]\n"
     ]
    }
   ],
   "source": [
    "l1=list(range(51,100,2))\n",
    "l2=[]\n",
    "for id in range(51,100,2):\n",
    "    l2.append(id)\n",
    "#    print(id)\n",
    "print(l1)\n",
    "print(l2)"
   ]
  },
  {
   "cell_type": "code",
   "execution_count": 4,
   "id": "239277c9",
   "metadata": {},
   "outputs": [
    {
     "name": "stdout",
     "output_type": "stream",
     "text": [
      "[51, 57, 63, 69, 75, 77, 81, 87, 91, 93, 99]\n"
     ]
    }
   ],
   "source": [
    "l1=[]\n",
    "for i in range(51,100,2):\n",
    "    if (i%3==0) or (i%7==0):\n",
    "        l1.append(i)\n",
    "print(l1)"
   ]
  },
  {
   "cell_type": "code",
   "execution_count": 5,
   "id": "b24d82dc",
   "metadata": {},
   "outputs": [
    {
     "name": "stdout",
     "output_type": "stream",
     "text": [
      "0 51\n",
      "1 57\n",
      "2 63\n",
      "3 69\n",
      "4 75\n",
      "5 77\n",
      "6 81\n",
      "7 87\n",
      "8 91\n",
      "9 93\n",
      "10 99\n"
     ]
    }
   ],
   "source": [
    "for i,element in enumerate(l1):\n",
    "    print(i,element)"
   ]
  },
  {
   "cell_type": "code",
   "execution_count": 7,
   "id": "9d96f066",
   "metadata": {},
   "outputs": [
    {
     "name": "stdout",
     "output_type": "stream",
     "text": [
      "1 9\n",
      "3 19\n",
      "5 53\n"
     ]
    }
   ],
   "source": [
    "l1_roll_no=[4,9,15,19,46,53]\n",
    "for i,element in enumerate(l1_roll_no):\n",
    "    if i%2==1:\n",
    "        print(i,element)\n",
    "        \n"
   ]
  },
  {
   "cell_type": "code",
   "execution_count": 8,
   "id": "9a6437fe",
   "metadata": {},
   "outputs": [
    {
     "name": "stdout",
     "output_type": "stream",
     "text": [
      "0\n",
      "1\n",
      "2\n",
      "3\n",
      "4\n"
     ]
    }
   ],
   "source": [
    "for i in range(5):\n",
    "    print(i)\n",
    "    i+=5"
   ]
  },
  {
   "cell_type": "code",
   "execution_count": 18,
   "id": "fa2ef912",
   "metadata": {},
   "outputs": [
    {
     "name": "stdout",
     "output_type": "stream",
     "text": [
      "[4, 25, 64, 16, 81]\n"
     ]
    }
   ],
   "source": [
    "l1=[2,5,8,4,9]\n",
    "squares=[ element **2 for element in l1  ]\n",
    "print(squares)\n"
   ]
  },
  {
   "cell_type": "code",
   "execution_count": 16,
   "id": "2e7d3a3a",
   "metadata": {},
   "outputs": [
    {
     "name": "stdout",
     "output_type": "stream",
     "text": [
      "[4, 25, 64, 16, 81]\n"
     ]
    }
   ],
   "source": [
    "l1=[2,5,8,4,9]\n",
    "square=[]\n",
    "for element in l1:\n",
    "    square.append(element**2)\n",
    "print(square)"
   ]
  },
  {
   "cell_type": "code",
   "execution_count": 19,
   "id": "4454a08b",
   "metadata": {},
   "outputs": [
    {
     "name": "stdout",
     "output_type": "stream",
     "text": [
      "2\n"
     ]
    }
   ],
   "source": [
    "print(l1[0])"
   ]
  },
  {
   "cell_type": "code",
   "execution_count": 20,
   "id": "7b9f544c",
   "metadata": {},
   "outputs": [
    {
     "name": "stdout",
     "output_type": "stream",
     "text": [
      "[2, 5, 8, 4, 9, 90]\n"
     ]
    }
   ],
   "source": [
    "l1.append(90)\n",
    "print(l1)"
   ]
  },
  {
   "cell_type": "code",
   "execution_count": 21,
   "id": "f6828206",
   "metadata": {},
   "outputs": [
    {
     "name": "stdout",
     "output_type": "stream",
     "text": [
      "[2, 5, 55, 8, 4, 9, 90]\n"
     ]
    }
   ],
   "source": [
    "l1.insert(2,55)\n",
    "print(l1)"
   ]
  },
  {
   "cell_type": "code",
   "execution_count": 22,
   "id": "f81b3504",
   "metadata": {},
   "outputs": [
    {
     "name": "stdout",
     "output_type": "stream",
     "text": [
      "[2, 5, 55, 66, 4, 9, 90]\n"
     ]
    }
   ],
   "source": [
    "l1[3]=66\n",
    "print(l1)"
   ]
  },
  {
   "cell_type": "code",
   "execution_count": 27,
   "id": "4e15c719",
   "metadata": {},
   "outputs": [
    {
     "name": "stdout",
     "output_type": "stream",
     "text": [
      "[32, 45]\n"
     ]
    }
   ],
   "source": [
    "l1=[32,45,55,66,90]\n",
    "l1.remove(55)\n",
    "l1.remove(66)\n",
    "l1.remove(90)\n",
    "print(l1)"
   ]
  },
  {
   "cell_type": "code",
   "execution_count": 30,
   "id": "b3812fd1",
   "metadata": {},
   "outputs": [
    {
     "name": "stdout",
     "output_type": "stream",
     "text": [
      "[4, 9, 4]\n"
     ]
    }
   ],
   "source": [
    "l1=[4,7,9,4]\n",
    "del l1[1]\n",
    "print(l1)"
   ]
  },
  {
   "cell_type": "code",
   "execution_count": null,
   "id": "35c44560",
   "metadata": {},
   "outputs": [],
   "source": []
  }
 ],
 "metadata": {
  "kernelspec": {
   "display_name": "Python 3 (ipykernel)",
   "language": "python",
   "name": "python3"
  },
  "language_info": {
   "codemirror_mode": {
    "name": "ipython",
    "version": 3
   },
   "file_extension": ".py",
   "mimetype": "text/x-python",
   "name": "python",
   "nbconvert_exporter": "python",
   "pygments_lexer": "ipython3",
   "version": "3.11.4"
  }
 },
 "nbformat": 4,
 "nbformat_minor": 5
}
