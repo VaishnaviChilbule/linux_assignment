{
 "cells": [
  {
   "cell_type": "markdown",
   "id": "b578273b",
   "metadata": {},
   "source": [
    "Take a number from user and print sum of all odd numbers till that number.\n",
    "Ex. Enter a no : 10   \n",
    "Sum of all odd numbers till 10 : 3+5+7+9  =24\n",
    "\n"
   ]
  },
  {
   "cell_type": "code",
   "execution_count": 50,
   "id": "627b2540",
   "metadata": {},
   "outputs": [
    {
     "name": "stdout",
     "output_type": "stream",
     "text": [
      "Enter any number7\n",
      "   *\n",
      "  ***\n",
      " *****\n",
      "*******\n",
      "      ****\n",
      "     **\n",
      "    \n",
      "   \n",
      "  \n",
      " \n",
      "\n"
     ]
    }
   ],
   "source": [
    "n=int(input(\"Enter any number\"))\n",
    "sp=n//2\n",
    "c=(n//2)+1\n",
    "for i in range(1,n+1,2):\n",
    "    print(' '*sp,'*'*i,sep=\"\")\n",
    "    sp=sp-1\n",
    "for j in range(n-1,-1,-1):\n",
    "    print(' '*j,'*'*c,sep=\"\")\n",
    "    c=c-2"
   ]
  },
  {
   "cell_type": "code",
   "execution_count": 43,
   "id": "6f499348",
   "metadata": {},
   "outputs": [
    {
     "name": "stdout",
     "output_type": "stream",
     "text": [
      "Enter any number7\n",
      "1010101010101\n",
      " 10101010101\n",
      "  101010101\n",
      "   1010101\n",
      "    10101\n",
      "     101\n",
      "      1\n"
     ]
    }
   ],
   "source": [
    "sp=0\n",
    "n=int(input(\"Enter any number\"))\n",
    "for i in range(n-1,-1,-1):\n",
    "    print(' '*sp,'10'*i,'1',sep='')\n",
    "    sp=sp+1"
   ]
  },
  {
   "cell_type": "code",
   "execution_count": null,
   "id": "690f5914",
   "metadata": {},
   "outputs": [],
   "source": [
    "import sys"
   ]
  },
  {
   "cell_type": "code",
   "execution_count": 56,
   "id": "2a0d15c8",
   "metadata": {},
   "outputs": [
    {
     "data": {
      "text/plain": [
       "24"
      ]
     },
     "execution_count": 56,
     "metadata": {},
     "output_type": "execute_result"
    }
   ],
   "source": [
    "import sys\n",
    "num=56.6798\n",
    "sys.getsizeof(num)"
   ]
  },
  {
   "cell_type": "code",
   "execution_count": 66,
   "id": "14dbf2fc",
   "metadata": {},
   "outputs": [
    {
     "data": {
      "text/plain": [
       "2218815912112"
      ]
     },
     "execution_count": 66,
     "metadata": {},
     "output_type": "execute_result"
    }
   ],
   "source": [
    "name=\"disha\"\n",
    "id(name)"
   ]
  },
  {
   "cell_type": "code",
   "execution_count": 65,
   "id": "ded58381",
   "metadata": {},
   "outputs": [
    {
     "data": {
      "text/plain": [
       "2218814777840"
      ]
     },
     "execution_count": 65,
     "metadata": {},
     "output_type": "execute_result"
    }
   ],
   "source": [
    "num=456\n",
    "id(num)"
   ]
  },
  {
   "cell_type": "code",
   "execution_count": 68,
   "id": "db635ccd",
   "metadata": {
    "scrolled": true
   },
   "outputs": [
    {
     "name": "stdout",
     "output_type": "stream",
     "text": [
      "140719912686664\n",
      "140719912686664\n",
      "140719912688904 140719912686664\n",
      "80 10\n"
     ]
    }
   ],
   "source": [
    "n=10\n",
    "print(id(n))\n",
    "m=10\n",
    "print(id(m))\n",
    "n=80\n",
    "print(id(n),id(m))\n",
    "print(n,m)"
   ]
  },
  {
   "cell_type": "code",
   "execution_count": 72,
   "id": "75236ccf",
   "metadata": {},
   "outputs": [
    {
     "name": "stdout",
     "output_type": "stream",
     "text": [
      "enter number 50\n",
      "factorial:  8881784197001252323389053344726562500000000000000000000000000000000000000000000000000\n"
     ]
    }
   ],
   "source": [
    "n=int(input(\"enter number \"))\n",
    "fact=1\n",
    "for i in range(n):\n",
    "    fact=fact*n\n",
    "print(\"factorial: \",fact)"
   ]
  },
  {
   "cell_type": "code",
   "execution_count": null,
   "id": "f82e48d8",
   "metadata": {},
   "outputs": [],
   "source": []
  }
 ],
 "metadata": {
  "kernelspec": {
   "display_name": "Python 3 (ipykernel)",
   "language": "python",
   "name": "python3"
  },
  "language_info": {
   "codemirror_mode": {
    "name": "ipython",
    "version": 3
   },
   "file_extension": ".py",
   "mimetype": "text/x-python",
   "name": "python",
   "nbconvert_exporter": "python",
   "pygments_lexer": "ipython3",
   "version": "3.11.4"
  }
 },
 "nbformat": 4,
 "nbformat_minor": 5
}
