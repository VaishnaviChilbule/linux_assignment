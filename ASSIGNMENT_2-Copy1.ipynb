{
 "cells": [
  {
   "cell_type": "markdown",
   "id": "6e6a7d1d",
   "metadata": {},
   "source": [
    "1. A student will not be allowed to sit in exam if his/her attendence is less than 75%.  \n",
    "   Take following input from user Number of classes held Number of classes attended. And print percentage of class attended  \n",
    "   Is student is allowed to sit in exam or not. "
   ]
  },
  {
   "cell_type": "code",
   "execution_count": 6,
   "id": "da944b30",
   "metadata": {},
   "outputs": [
    {
     "name": "stdout",
     "output_type": "stream",
     "text": [
      "75.0\n",
      "You are eligible for exam\n"
     ]
    }
   ],
   "source": [
    "number_classes=100\n",
    "number_attended=75\n",
    "percentage = (number_attended/number_classes)*100\n",
    "if 100>=percentage>=75:\n",
    "    print(percentage)\n",
    "    print(\"You are eligible for exam\")\n",
    "else:\n",
    "    print(\"Better luck next time!\")"
   ]
  },
  {
   "cell_type": "markdown",
   "id": "ca5576dc",
   "metadata": {},
   "source": [
    "2. accept amount from user and find the minimum number notes required to get the amount amount =512  \n",
    "Notes: 2000,500,100,50,10,5,2,1  \n",
    "\n",
    "500-1 note  \n",
    "10  - 1 note  \n",
    "2-  1 coin  \n",
    "\n",
    "amount=20550  \n",
    "2000 – 10 note  \n",
    "500 – 1 note  \n",
    "50 -1 note  "
   ]
  },
  {
   "cell_type": "code",
   "execution_count": 2,
   "id": "150cc350",
   "metadata": {},
   "outputs": [
    {
     "name": "stdout",
     "output_type": "stream",
     "text": [
      "Enter amount512\n",
      "500 notes= 1\n",
      "100 notes= 0\n",
      "50 notes= 0\n",
      "10 notes= 1\n",
      "5 coins= 0\n",
      "2 coins= 1\n",
      "1 coins= 2\n"
     ]
    }
   ],
   "source": [
    "amount=int(input(\"Enter amount\"))\n",
    "notes_2k=amount//2000\n",
    "if(notes_2k>0):\n",
    "    print(\"2000 notes =\",notes_2k)\n",
    "rem=amount%2000\n",
    "notes_500=rem//500\n",
    "print(\"500 notes=\",notes_500)\n",
    "rem=amount%500\n",
    "notes_100=rem//100\n",
    "print(\"100 notes=\",notes_100)\n",
    "rem=amount%100\n",
    "notes_50=rem//50\n",
    "print(\"50 notes=\",notes_50)\n",
    "rem=amount%50\n",
    "notes_10=rem//10\n",
    "print(\"10 notes=\",notes_10)\n",
    "rem=amount%10\n",
    "coins_5=rem//5\n",
    "print(\"5 coins=\",coins_5)\n",
    "rem=amount%5\n",
    "coins_2=rem//2\n",
    "print(\"2 coins=\",coins_2)\n",
    "print(\"1 coins=\",rem)"
   ]
  },
  {
   "cell_type": "markdown",
   "id": "837e1874",
   "metadata": {},
   "source": [
    "3.\tModify the above question Q1 to allow student to sit if he/she has medical cause. Ask user if he/she has medical cause or not ( 'Y' or 'N' ) and print accordingly.  \n"
   ]
  },
  {
   "cell_type": "code",
   "execution_count": 5,
   "id": "8f429827",
   "metadata": {},
   "outputs": [
    {
     "name": "stdout",
     "output_type": "stream",
     "text": [
      "Enter number of classes attended out of 100:74\n",
      "Enter 'Y'for medical cause and 'N'for no:N\n",
      "Sorry your attendance is not sufficient, Better luck next time !!!!\n"
     ]
    }
   ],
   "source": [
    "number_classes=100\n",
    "number_attended=int(input(\"Enter number of classes attended out of 100:\"))\n",
    "percentage = (number_attended/number_classes)*100\n",
    "med_cause=input(\"Enter 'Y'for medical cause and 'N'for no:\")\n",
    "if (med_cause=='Y') and (percentage<75):\n",
    "    print(\"You are eligible for exam dont worry\")\n",
    "if (100>=percentage>=75) or (med_cause=='Y'):\n",
    "    print(\"attendance:\",percentage)\n",
    "else:\n",
    "    print(\"Sorry your attendance is not sufficient, Better luck next time !!!!\")\n",
    "    "
   ]
  },
  {
   "cell_type": "markdown",
   "id": "88a26ae1",
   "metadata": {},
   "source": [
    "4.\tA school has following rules for grading system:  \n",
    "a.\tBelow 25 - F  \n",
    "b.\t25 to 45 - E  \n",
    "c.\t45 to 50 - D  \n",
    "d.\t50 to 60 - C  \n",
    "e.\t60 to 80 - B  \n",
    "f.\tAbove 80 - A  \n",
    "Ask user to enter marks and print the corresponding grade.  "
   ]
  },
  {
   "cell_type": "code",
   "execution_count": 7,
   "id": "16bee016",
   "metadata": {},
   "outputs": [
    {
     "name": "stdout",
     "output_type": "stream",
     "text": [
      "Enter your marks 19\n",
      "Failed : F grade\n"
     ]
    }
   ],
   "source": [
    "marks=int(input(\"Enter your marks \"))\n",
    "if 100>=marks>=80:\n",
    "    print(\"You have obtained A grade !!!\")\n",
    "elif 80>=marks>=60:\n",
    "    print(\"You have obtained B grade.\")\n",
    "elif 60>=marks>=50:\n",
    "    print(\"You have obtained C grade.\")\n",
    "elif 50>=marks>=45:\n",
    "    print(\"You have obtained D grade.\")\n",
    "elif 45>=marks>=25:\n",
    "    print(\"You have obtained E grade.\")\n",
    "else:\n",
    "    print(\"Failed : F grade\")\n",
    "    "
   ]
  },
  {
   "cell_type": "markdown",
   "id": "840bf363",
   "metadata": {},
   "source": [
    " If  x = 2 y = 5 z = 0  then find values of the following expressions and Print the output of following statements  \n",
    "a.\tx == 2  \n",
    "b.\tx != 5  \n",
    "c.\tx != 5 & y >= 5  \n",
    "d.\tz != 0 | x == 2  \n",
    "e.\tnot(y < 10)  "
   ]
  },
  {
   "cell_type": "code",
   "execution_count": 29,
   "id": "ca077762",
   "metadata": {},
   "outputs": [
    {
     "data": {
      "text/plain": [
       "True"
      ]
     },
     "execution_count": 29,
     "metadata": {},
     "output_type": "execute_result"
    }
   ],
   "source": [
    "x=2\n",
    "y=5\n",
    "z=0\n",
    "x==2\n",
    "#x!=5\n",
    "#x!=5&y>=5\n",
    "#z!=0|x==2\n",
    "#not(y<10)"
   ]
  },
  {
   "cell_type": "code",
   "execution_count": 30,
   "id": "080183ec",
   "metadata": {},
   "outputs": [
    {
     "data": {
      "text/plain": [
       "True"
      ]
     },
     "execution_count": 30,
     "metadata": {},
     "output_type": "execute_result"
    }
   ],
   "source": [
    "x=2\n",
    "y=5\n",
    "z=0\n",
    "#x==2\n",
    "x!=5\n",
    "#x!=5&y>=5\n",
    "#z!=0|x==2\n",
    "#not(y<10)"
   ]
  },
  {
   "cell_type": "code",
   "execution_count": 31,
   "id": "7cb7a860",
   "metadata": {},
   "outputs": [
    {
     "data": {
      "text/plain": [
       "True"
      ]
     },
     "execution_count": 31,
     "metadata": {},
     "output_type": "execute_result"
    }
   ],
   "source": [
    "x=2\n",
    "y=5\n",
    "z=0\n",
    "#x==2\n",
    "#x!=5\n",
    "x!=5&y>=5\n",
    "#z!=0|x==2\n",
    "#not(y<10)"
   ]
  },
  {
   "cell_type": "code",
   "execution_count": 32,
   "id": "de715df4",
   "metadata": {},
   "outputs": [
    {
     "data": {
      "text/plain": [
       "True"
      ]
     },
     "execution_count": 32,
     "metadata": {},
     "output_type": "execute_result"
    }
   ],
   "source": [
    "x=2\n",
    "y=5\n",
    "z=0\n",
    "#x==2\n",
    "#x!=5\n",
    "#x!=5&y>=5\n",
    "z!=0|x==2\n",
    "#not(y<10)"
   ]
  },
  {
   "cell_type": "code",
   "execution_count": 33,
   "id": "d4593517",
   "metadata": {},
   "outputs": [
    {
     "data": {
      "text/plain": [
       "False"
      ]
     },
     "execution_count": 33,
     "metadata": {},
     "output_type": "execute_result"
    }
   ],
   "source": [
    "x=2\n",
    "y=5\n",
    "z=0\n",
    "#x==2\n",
    "#x!=5\n",
    "#x!=5&y>=5\n",
    "#z!=0|x==2\n",
    "not(y<10)"
   ]
  },
  {
   "cell_type": "markdown",
   "id": "56d35314",
   "metadata": {},
   "source": [
    "6.\tAccept number from user and check whether it is divisible by 5 and 11 if divisible then display appropriate message. "
   ]
  },
  {
   "cell_type": "code",
   "execution_count": 13,
   "id": "16e45c97",
   "metadata": {},
   "outputs": [
    {
     "name": "stdout",
     "output_type": "stream",
     "text": [
      "Enter any number of your choice: 55\n",
      "your number is divisible by 5 and 11\n"
     ]
    }
   ],
   "source": [
    "num=int(input(\"Enter any number of your choice: \"))\n",
    "if(num%5==0)and(num%11==0):\n",
    "    print(\"your number is divisible by 5 and 11\")\n",
    "else:\n",
    "    print(\"Not divisible\")"
   ]
  },
  {
   "cell_type": "markdown",
   "id": "d8dd4db0",
   "metadata": {},
   "source": [
    "7.\tWrite a program to calculate the electricity bill (accept number of unit from user) according to the following criteria :  \n",
    "             Unit                                    Price    \n",
    "First 100 units                                       no charge  \n",
    "Next 100 units                                        Rs 5 per unit  \n",
    "After 200 units                                       Rs 10 per unit  \n",
    "(For example if input unit is 350 than total bill amount is Rs2000)  "
   ]
  },
  {
   "cell_type": "code",
   "execution_count": 18,
   "id": "a75ae9d3",
   "metadata": {},
   "outputs": [
    {
     "name": "stdout",
     "output_type": "stream",
     "text": [
      "Enter number of units: 350\n",
      "Your bill is:  2000\n"
     ]
    }
   ],
   "source": [
    "units=int(input(\"Enter number of units: \"))\n",
    "bill=0\n",
    "if units<=100:\n",
    "    print(\"Congratulations!!! No Charge!!!\")\n",
    "elif 200>=units>100:\n",
    "    rem=units-100\n",
    "    bill=rem*5\n",
    "    print(\"Your bill is: \",bill)\n",
    "elif units>200:\n",
    "    rem=units-200\n",
    "    bill=rem*10+100*5\n",
    "    print(\"Your bill is: \",bill)\n",
    "    "
   ]
  },
  {
   "cell_type": "markdown",
   "id": "30588a4f",
   "metadata": {},
   "source": [
    "8.\tWrite a program to check whether the last digit of a number( entered by user ) is divisible by 3 or not."
   ]
  },
  {
   "cell_type": "code",
   "execution_count": null,
   "id": "f6d35530",
   "metadata": {},
   "outputs": [],
   "source": [
    "num=input(\"Enter any number you want: \")\n",
    "l=len(num)\n",
    "print(l)\n",
    "n_num=int(num)\n",
    "for i in range(1,l):\n",
    "    rem=n_num%10\n",
    "if rem%3==0:\n",
    "    print(\"last digit is divisible by 3\")"
   ]
  },
  {
   "cell_type": "markdown",
   "id": "eea3ab77",
   "metadata": {},
   "source": [
    "9.\tWrite a program to check whether an years is leap year or not the year is leap if it satisfies following condition  \n",
    "•\tIt the year is divisible by 100 o If it is divisible by 100, then it should also be divisible by 400 then it is leap year  \n",
    "•\totherwise, all other years divisible by 4 and not divisible by 100 then it is leap year.  \n"
   ]
  },
  {
   "cell_type": "code",
   "execution_count": null,
   "id": "d16dc1cc",
   "metadata": {},
   "outputs": [],
   "source": [
    "year=int(input(\"Enter any year: \"))\n",
    "if (year%400==0) and (year%100==0) or (year%4==0):\n",
    "    print(\"Leap Year\")\n",
    "else:\n",
    "    print(\"Not a leap year!\")"
   ]
  },
  {
   "cell_type": "markdown",
   "id": "114ff91e",
   "metadata": {},
   "source": [
    "10. Write a program to accept the price of a bike and display the road tax and insurance to be paid according to the following criteria . also display total amount to be paid.  \n",
    "      \n",
    "        Cost price (in Rs)           Tax                Inssurance  \n",
    "        > 100000                     15 %                   20%  \n",
    "        > 50000 and <= 100000        10%                    8%  \n",
    "        <= 50000                     5%                     5%   \n",
    "\n"
   ]
  },
  {
   "cell_type": "code",
   "execution_count": 36,
   "id": "e78df8bf",
   "metadata": {},
   "outputs": [
    {
     "name": "stdout",
     "output_type": "stream",
     "text": [
      "Enter cost price of bike: 20000\n",
      "5% Tax and 5% Inssurance\n",
      "Tax to be paid:  1000\n",
      "inssurance to be paid:  1000\n"
     ]
    }
   ],
   "source": [
    "cp=int(input(\"Enter cost price of bike: \"))\n",
    "if cp>100000:\n",
    "    print(\"15% Tax and 20% Inssurance\")\n",
    "    tax=(cp*15)//100\n",
    "    print(\"Tax to be paid: \",tax)\n",
    "    inssurance=(cp*20)//100\n",
    "    print(\"inssurance to be paid: \",inssurance)\n",
    "elif 100000>=cp>50000:\n",
    "    print(\"10% Tax and 8% Inssurance\")\n",
    "    tax=(cp*10)//100\n",
    "    print(\"Tax to be paid: \",tax)\n",
    "    inssurance=(cp*8)//100\n",
    "    print(\"inssurance to be paid: \",inssurance)\n",
    "elif cp<=50000:\n",
    "    print(\"5% Tax and 5% Inssurance\")\n",
    "    tax=(cp*5)//100\n",
    "    print(\"Tax to be paid: \",tax)\n",
    "    inssurance=(cp*5)//100\n",
    "    print(\"inssurance to be paid: \",inssurance)\n",
    "else:\n",
    "    pirnt(\"Enter valid credentials\")\n",
    "    \n",
    "    "
   ]
  },
  {
   "cell_type": "markdown",
   "id": "978dc623",
   "metadata": {},
   "source": [
    "\n",
    "Loop Questions:\n",
    "\n",
    "1.\tAccept 10 integers from user  and print their average value on the screen"
   ]
  },
  {
   "cell_type": "code",
   "execution_count": 43,
   "id": "e49ee0bd",
   "metadata": {},
   "outputs": [
    {
     "name": "stdout",
     "output_type": "stream",
     "text": [
      "Number entered is: 2\n",
      "Number entered is: 3\n",
      "Number entered is: 4\n",
      "Number entered is: 5\n",
      "Number entered is: 6\n",
      "Number entered is: 5\n",
      "Number entered is: 4\n",
      "Number entered is: 3\n",
      "Number entered is: 2\n",
      "Number entered is: 3\n",
      "average of numbers entered is:  3\n"
     ]
    }
   ],
   "source": [
    "total=0\n",
    "for i in range(10):\n",
    "    num=int(input(\"Number entered is: \"))\n",
    "    total=total+num\n",
    "avg=total//10\n",
    "print(\"average of numbers entered is: \",avg)"
   ]
  },
  {
   "cell_type": "markdown",
   "id": "dd7f6572",
   "metadata": {},
   "source": [
    "2.\tPrint the following patterns using loop : \n",
    "a. \n",
    "* \n",
    "** \n",
    "***\n",
    "****"
   ]
  },
  {
   "cell_type": "code",
   "execution_count": 2,
   "id": "1450b4a2",
   "metadata": {},
   "outputs": [
    {
     "name": "stdout",
     "output_type": "stream",
     "text": [
      "enter any number5\n",
      "*\n",
      "**\n",
      "***\n",
      "****\n"
     ]
    }
   ],
   "source": [
    "n=int(input(\"enter any number\"))\n",
    "for i in range(1,n):\n",
    "    print('*'*i)\n",
    " "
   ]
  },
  {
   "cell_type": "markdown",
   "id": "11982dba",
   "metadata": {},
   "source": [
    "\n",
    "    *                    \n",
    "  ***                \n",
    "***** \n",
    "  ***\n",
    "    * "
   ]
  },
  {
   "cell_type": "code",
   "execution_count": null,
   "id": "00650e34",
   "metadata": {},
   "outputs": [],
   "source": [
    "n=int(input(\"Enter any number\"))\n",
    "sp=n-1\n",
    "\n",
    "for i in range(1,n+1,2):\n",
    "    print(' '*sp,'*'*i,sep=\"\")\n",
    "    sp=sp-2\n",
    "sp=2  \n",
    "for j in range(n-1,0,2):\n",
    "    print(' '*sp,'*'*j,sep=\"\")\n",
    "    sp=sp*2\n",
    "          \n",
    "    "
   ]
  },
  {
   "cell_type": "markdown",
   "id": "08b0e058",
   "metadata": {},
   "source": [
    "Q. Write a program to find greatest common divisor (GCD) or highest common factor (HCF) of given two numbers. "
   ]
  },
  {
   "cell_type": "code",
   "execution_count": null,
   "id": "c384793f",
   "metadata": {},
   "outputs": [],
   "source": []
  }
 ],
 "metadata": {
  "kernelspec": {
   "display_name": "Python 3 (ipykernel)",
   "language": "python",
   "name": "python3"
  },
  "language_info": {
   "codemirror_mode": {
    "name": "ipython",
    "version": 3
   },
   "file_extension": ".py",
   "mimetype": "text/x-python",
   "name": "python",
   "nbconvert_exporter": "python",
   "pygments_lexer": "ipython3",
   "version": "3.11.4"
  }
 },
 "nbformat": 4,
 "nbformat_minor": 5
}
