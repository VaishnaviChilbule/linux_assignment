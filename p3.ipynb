{
 "cells": [
  {
   "cell_type": "code",
   "execution_count": 1,
   "id": "4843e320",
   "metadata": {},
   "outputs": [
    {
     "data": {
      "text/plain": [
       "int"
      ]
     },
     "execution_count": 1,
     "metadata": {},
     "output_type": "execute_result"
    }
   ],
   "source": [
    "type(0)"
   ]
  },
  {
   "cell_type": "code",
   "execution_count": 3,
   "id": "74bf9881",
   "metadata": {},
   "outputs": [
    {
     "data": {
      "text/plain": [
       "float"
      ]
     },
     "execution_count": 3,
     "metadata": {},
     "output_type": "execute_result"
    }
   ],
   "source": [
    "type(0.0)"
   ]
  },
  {
   "cell_type": "code",
   "execution_count": 4,
   "id": "ee0b0cac",
   "metadata": {},
   "outputs": [
    {
     "data": {
      "text/plain": [
       "str"
      ]
     },
     "execution_count": 4,
     "metadata": {},
     "output_type": "execute_result"
    }
   ],
   "source": [
    "type('A')"
   ]
  },
  {
   "cell_type": "code",
   "execution_count": 5,
   "id": "b191ec3e",
   "metadata": {},
   "outputs": [
    {
     "data": {
      "text/plain": [
       "builtin_function_or_method"
      ]
     },
     "execution_count": 5,
     "metadata": {},
     "output_type": "execute_result"
    }
   ],
   "source": [
    "type(print)"
   ]
  },
  {
   "cell_type": "code",
   "execution_count": 6,
   "id": "a8ee94b3",
   "metadata": {},
   "outputs": [
    {
     "data": {
      "text/plain": [
       "complex"
      ]
     },
     "execution_count": 6,
     "metadata": {},
     "output_type": "execute_result"
    }
   ],
   "source": [
    "type(3+3j)"
   ]
  },
  {
   "cell_type": "code",
   "execution_count": 7,
   "id": "ab059107",
   "metadata": {},
   "outputs": [
    {
     "data": {
      "text/plain": [
       "bool"
      ]
     },
     "execution_count": 7,
     "metadata": {},
     "output_type": "execute_result"
    }
   ],
   "source": [
    "type(True)"
   ]
  },
  {
   "cell_type": "code",
   "execution_count": 8,
   "id": "027abdef",
   "metadata": {},
   "outputs": [
    {
     "data": {
      "text/plain": [
       "True"
      ]
     },
     "execution_count": 8,
     "metadata": {},
     "output_type": "execute_result"
    }
   ],
   "source": [
    "isinstance(10,int)"
   ]
  },
  {
   "cell_type": "code",
   "execution_count": 9,
   "id": "e4ff3e3d",
   "metadata": {},
   "outputs": [
    {
     "data": {
      "text/plain": [
       "False"
      ]
     },
     "execution_count": 9,
     "metadata": {},
     "output_type": "execute_result"
    }
   ],
   "source": [
    "isinstance(10,float)"
   ]
  },
  {
   "cell_type": "code",
   "execution_count": 10,
   "id": "50d30941",
   "metadata": {},
   "outputs": [
    {
     "data": {
      "text/plain": [
       "False"
      ]
     },
     "execution_count": 10,
     "metadata": {},
     "output_type": "execute_result"
    }
   ],
   "source": [
    "isinstance(1,bool)"
   ]
  },
  {
   "cell_type": "code",
   "execution_count": 11,
   "id": "d882866b",
   "metadata": {},
   "outputs": [
    {
     "data": {
      "text/plain": [
       "False"
      ]
     },
     "execution_count": 11,
     "metadata": {},
     "output_type": "execute_result"
    }
   ],
   "source": [
    "isinstance(0,bool)"
   ]
  },
  {
   "cell_type": "code",
   "execution_count": 12,
   "id": "670345b2",
   "metadata": {},
   "outputs": [
    {
     "data": {
      "text/plain": [
       "False"
      ]
     },
     "execution_count": 12,
     "metadata": {},
     "output_type": "execute_result"
    }
   ],
   "source": [
    "isinstance(78.8,int)"
   ]
  },
  {
   "cell_type": "code",
   "execution_count": 13,
   "id": "762f3501",
   "metadata": {},
   "outputs": [
    {
     "data": {
      "text/plain": [
       "True"
      ]
     },
     "execution_count": 13,
     "metadata": {},
     "output_type": "execute_result"
    }
   ],
   "source": [
    "isinstance(78.8,float)"
   ]
  },
  {
   "cell_type": "code",
   "execution_count": 14,
   "id": "425604d5",
   "metadata": {},
   "outputs": [
    {
     "data": {
      "text/plain": [
       "False"
      ]
     },
     "execution_count": 14,
     "metadata": {},
     "output_type": "execute_result"
    }
   ],
   "source": [
    "isinstance(78.8,complex)"
   ]
  },
  {
   "cell_type": "code",
   "execution_count": 15,
   "id": "3aec011f",
   "metadata": {},
   "outputs": [
    {
     "data": {
      "text/plain": [
       "True"
      ]
     },
     "execution_count": 15,
     "metadata": {},
     "output_type": "execute_result"
    }
   ],
   "source": [
    "isinstance(True,bool)"
   ]
  },
  {
   "cell_type": "markdown",
   "id": "6367ae73",
   "metadata": {},
   "source": [
    "Q3. WAP to take following from user, \n",
    "roll no : should be int : store in a variable\n",
    "percentage marks : should be float: store in a variable\n",
    "Any complex number : should be a complex number : store in a variable\n",
    "name of student: should be a string : store in a variable\n",
    "\n",
    "Print values of all four variables"
   ]
  },
  {
   "cell_type": "code",
   "execution_count": 16,
   "id": "bebc7e72",
   "metadata": {},
   "outputs": [
    {
     "name": "stdout",
     "output_type": "stream",
     "text": [
      "enter the roll number46\n",
      "enter the percentage89\n",
      "enter complex number5+4j\n",
      "enter namevaishnavi\n",
      "46\n",
      "89.0\n",
      "(5+4j)\n",
      "vaishnavi\n"
     ]
    }
   ],
   "source": [
    "roll_no=int(input(\"enter the roll number\"))\n",
    "percentage=float(input(\"enter the percentage\"))\n",
    "complex_num=complex(input(\"enter complex number\"))\n",
    "name=str(input(\"enter name\"))\n",
    "print(roll_no)\n",
    "print(percentage)\n",
    "print(complex_num)\n",
    "print(name)"
   ]
  },
  {
   "cell_type": "markdown",
   "id": "ce85cbad",
   "metadata": {},
   "source": [
    "Q.4 WAP to convert given integer to binary, hex and octal format"
   ]
  },
  {
   "cell_type": "code",
   "execution_count": 18,
   "id": "64dd6bc1",
   "metadata": {},
   "outputs": [
    {
     "name": "stdout",
     "output_type": "stream",
     "text": [
      "enter any number20\n",
      "0b10100\n",
      "0x14\n",
      "0o24\n"
     ]
    }
   ],
   "source": [
    "num=int(input(\"enter any number\"))\n",
    "binary=bin(num)\n",
    "hexadecimal=hex(num)\n",
    "octal=oct(num)\n",
    "print(binary)\n",
    "print(hexadecimal)\n",
    "print(octal)"
   ]
  },
  {
   "cell_type": "markdown",
   "id": "a4ab6717",
   "metadata": {},
   "source": [
    "Q.5 WAP to convert given binary string to an integer\n",
    "Q.6 WAP to convert given octal string to an integer.\n",
    "Q.7  WAP to convert given hex string to an integer."
   ]
  },
  {
   "cell_type": "code",
   "execution_count": null,
   "id": "f09dee4a",
   "metadata": {},
   "outputs": [],
   "source": [
    "while(True):\n",
    "    choice=input(\"which input needs to be converted 1:Binary 2:Octal 3:Hex 4:Exit\")\n",
    "    num=input(\"enter a binary number: \")\n",
    "    match choice:\n",
    "        case 1:\n",
    "            print(\"Binary to int conversion\")\n",
    "            print(int(num,2))\n",
    "        case 2:\n",
    "            print(\"Octal to int conversion\")\n",
    "            print(int(num,8))\n",
    "        case 3:\n",
    "            print(\"Hex to int conversion\")\n",
    "            print(int(num,16))\n",
    "        case 4:\n",
    "            print(\"Exiting....\")\n",
    "        break\n",
    "\n",
    "\n"
   ]
  },
  {
   "cell_type": "markdown",
   "id": "b64aa01b",
   "metadata": {},
   "source": [
    "Q.8 WAP to take an int from user. Print number of 1's and 0's in binary format of given number."
   ]
  },
  {
   "cell_type": "code",
   "execution_count": 34,
   "id": "cc74131a",
   "metadata": {},
   "outputs": [
    {
     "name": "stdout",
     "output_type": "stream",
     "text": [
      "enter any number20\n",
      "0\n",
      "b\n",
      "1\n",
      "0\n",
      "1\n",
      "0\n",
      "0\n",
      "number of one:- 2\n",
      "number of zero:- 4\n"
     ]
    }
   ],
   "source": [
    "num= int(input(\"enter any number\"))\n",
    "binary_number=bin(num)\n",
    "one=0\n",
    "zero=0\n",
    "for char in binary_number:\n",
    "    print(char)\n",
    "    if char=='1':\n",
    "        one=one+1\n",
    "    elif char=='0':\n",
    "        zero=zero+1\n",
    "        \n",
    "print(\"number of one:-\",one)\n",
    "print(\"number of zero:-\",zero)"
   ]
  },
  {
   "cell_type": "code",
   "execution_count": null,
   "id": "deef0aaa",
   "metadata": {},
   "outputs": [],
   "source": []
  }
 ],
 "metadata": {
  "kernelspec": {
   "display_name": "Python 3 (ipykernel)",
   "language": "python",
   "name": "python3"
  },
  "language_info": {
   "codemirror_mode": {
    "name": "ipython",
    "version": 3
   },
   "file_extension": ".py",
   "mimetype": "text/x-python",
   "name": "python",
   "nbconvert_exporter": "python",
   "pygments_lexer": "ipython3",
   "version": "3.11.4"
  }
 },
 "nbformat": 4,
 "nbformat_minor": 5
}
